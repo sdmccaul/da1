{
 "cells": [
  {
   "cell_type": "markdown",
   "metadata": {},
   "source": [
    "# Project 1: Test a Perceptual Phenomenon\n",
    "### Preamble and experimental design\n",
    "\n",
    "http://www.statisticssolutions.com/manova-analysis-paired-sample-t-test/\n",
    "\n",
    "In this variation of the Stroop Task, we want to know if an incongruency between the printed ink color of a word and its text content will increase the time needed to name the ink color. The independent variable is the congruent or incongruent condition of the words; that is, whether or not the printed color of the word matches its text. The dependent variable is the time it takes to name the ink colors. The question to answer is: does the incongruent condition affect the time needed to name the ink color?\n",
    "\n",
    "The setup of the experiment provides us with dependent, paired samples; one for each condition. As such, a standard Student's t-test for the comparison of dependent samples should be sufficient to determine the condition's effect. We assume that the data is normally distributed, and that the observations are independent of one another (despite being paired).\n",
    "\n",
    "Our hypotheses and experimental setup is as follows, where $ \\mu_c $ is the mean congruent time for naming, and $ \\mu_i $ the mean incongruent time. The null hypothesis is that mean congruent time is equal to the mean incogruent time; the alternative hypothesis is that they are not equal. We select an alpha-level of 0.05, which for a two-tailed test with 24 samples gives us a t-critical value of plus/minus 2.064.\n",
    "\n",
    "$ H_0: \\mu_c=\\mu_i $\n",
    "\n",
    "$ H_A: \\mu_c \\ne \\mu_i $\n",
    "\n",
    "$ \\alpha=0.05, n=24 $\n",
    "\n",
    "$ t_{critical} = \\pm2.064 $"
   ]
  },
  {
   "cell_type": "markdown",
   "metadata": {},
   "source": [
    "### Initial setup and exploration\n",
    "First, we import the pandas library and load the sample data. We take a look at the data to make sure it imported correctly, then use a pandas built-in function to generate some descriptive statistics. We see that there appears to be a significant difference between the mean naming time for the congruent and incongruent conditions. While the center of the data sets are different, their standard deviation and interquartile ranges are comparable. This implies that the data has undergone a distinct and identifiable change, shifting the center while not affecting variability."
   ]
  },
  {
   "cell_type": "code",
   "execution_count": 2,
   "metadata": {
    "collapsed": false
   },
   "outputs": [
    {
     "data": {
      "text/html": [
       "<div>\n",
       "<table border=\"1\" class=\"dataframe\">\n",
       "  <thead>\n",
       "    <tr style=\"text-align: right;\">\n",
       "      <th></th>\n",
       "      <th>Congruent</th>\n",
       "      <th>Incongruent</th>\n",
       "    </tr>\n",
       "  </thead>\n",
       "  <tbody>\n",
       "    <tr>\n",
       "      <th>0</th>\n",
       "      <td>12.079</td>\n",
       "      <td>19.278</td>\n",
       "    </tr>\n",
       "    <tr>\n",
       "      <th>1</th>\n",
       "      <td>16.791</td>\n",
       "      <td>18.741</td>\n",
       "    </tr>\n",
       "    <tr>\n",
       "      <th>2</th>\n",
       "      <td>9.564</td>\n",
       "      <td>21.214</td>\n",
       "    </tr>\n",
       "    <tr>\n",
       "      <th>3</th>\n",
       "      <td>8.630</td>\n",
       "      <td>15.687</td>\n",
       "    </tr>\n",
       "    <tr>\n",
       "      <th>4</th>\n",
       "      <td>14.669</td>\n",
       "      <td>22.803</td>\n",
       "    </tr>\n",
       "    <tr>\n",
       "      <th>5</th>\n",
       "      <td>12.238</td>\n",
       "      <td>20.878</td>\n",
       "    </tr>\n",
       "    <tr>\n",
       "      <th>6</th>\n",
       "      <td>14.692</td>\n",
       "      <td>24.572</td>\n",
       "    </tr>\n",
       "    <tr>\n",
       "      <th>7</th>\n",
       "      <td>8.987</td>\n",
       "      <td>17.394</td>\n",
       "    </tr>\n",
       "    <tr>\n",
       "      <th>8</th>\n",
       "      <td>9.401</td>\n",
       "      <td>20.762</td>\n",
       "    </tr>\n",
       "    <tr>\n",
       "      <th>9</th>\n",
       "      <td>14.480</td>\n",
       "      <td>26.282</td>\n",
       "    </tr>\n",
       "    <tr>\n",
       "      <th>10</th>\n",
       "      <td>22.328</td>\n",
       "      <td>24.524</td>\n",
       "    </tr>\n",
       "    <tr>\n",
       "      <th>11</th>\n",
       "      <td>15.298</td>\n",
       "      <td>18.644</td>\n",
       "    </tr>\n",
       "    <tr>\n",
       "      <th>12</th>\n",
       "      <td>15.073</td>\n",
       "      <td>17.510</td>\n",
       "    </tr>\n",
       "    <tr>\n",
       "      <th>13</th>\n",
       "      <td>16.929</td>\n",
       "      <td>20.330</td>\n",
       "    </tr>\n",
       "    <tr>\n",
       "      <th>14</th>\n",
       "      <td>18.200</td>\n",
       "      <td>35.255</td>\n",
       "    </tr>\n",
       "    <tr>\n",
       "      <th>15</th>\n",
       "      <td>12.130</td>\n",
       "      <td>22.158</td>\n",
       "    </tr>\n",
       "    <tr>\n",
       "      <th>16</th>\n",
       "      <td>18.495</td>\n",
       "      <td>25.139</td>\n",
       "    </tr>\n",
       "    <tr>\n",
       "      <th>17</th>\n",
       "      <td>10.639</td>\n",
       "      <td>20.429</td>\n",
       "    </tr>\n",
       "    <tr>\n",
       "      <th>18</th>\n",
       "      <td>11.344</td>\n",
       "      <td>17.425</td>\n",
       "    </tr>\n",
       "    <tr>\n",
       "      <th>19</th>\n",
       "      <td>12.369</td>\n",
       "      <td>34.288</td>\n",
       "    </tr>\n",
       "    <tr>\n",
       "      <th>20</th>\n",
       "      <td>12.944</td>\n",
       "      <td>23.894</td>\n",
       "    </tr>\n",
       "    <tr>\n",
       "      <th>21</th>\n",
       "      <td>14.233</td>\n",
       "      <td>17.960</td>\n",
       "    </tr>\n",
       "    <tr>\n",
       "      <th>22</th>\n",
       "      <td>19.710</td>\n",
       "      <td>22.058</td>\n",
       "    </tr>\n",
       "    <tr>\n",
       "      <th>23</th>\n",
       "      <td>16.004</td>\n",
       "      <td>21.157</td>\n",
       "    </tr>\n",
       "  </tbody>\n",
       "</table>\n",
       "</div>"
      ],
      "text/plain": [
       "    Congruent  Incongruent\n",
       "0      12.079       19.278\n",
       "1      16.791       18.741\n",
       "2       9.564       21.214\n",
       "3       8.630       15.687\n",
       "4      14.669       22.803\n",
       "5      12.238       20.878\n",
       "6      14.692       24.572\n",
       "7       8.987       17.394\n",
       "8       9.401       20.762\n",
       "9      14.480       26.282\n",
       "10     22.328       24.524\n",
       "11     15.298       18.644\n",
       "12     15.073       17.510\n",
       "13     16.929       20.330\n",
       "14     18.200       35.255\n",
       "15     12.130       22.158\n",
       "16     18.495       25.139\n",
       "17     10.639       20.429\n",
       "18     11.344       17.425\n",
       "19     12.369       34.288\n",
       "20     12.944       23.894\n",
       "21     14.233       17.960\n",
       "22     19.710       22.058\n",
       "23     16.004       21.157"
      ]
     },
     "execution_count": 2,
     "metadata": {},
     "output_type": "execute_result"
    }
   ],
   "source": [
    "import pandas as pd\n",
    "\n",
    "# https://chrisalbon.com/python/pandas_dataframe_importing_csv.html\n",
    "stroop_data = pd.read_csv('stroopdata.csv')\n",
    "stroop_data"
   ]
  },
  {
   "cell_type": "code",
   "execution_count": 3,
   "metadata": {
    "collapsed": false
   },
   "outputs": [
    {
     "data": {
      "text/html": [
       "<div>\n",
       "<table border=\"1\" class=\"dataframe\">\n",
       "  <thead>\n",
       "    <tr style=\"text-align: right;\">\n",
       "      <th></th>\n",
       "      <th>Congruent</th>\n",
       "      <th>Incongruent</th>\n",
       "    </tr>\n",
       "  </thead>\n",
       "  <tbody>\n",
       "    <tr>\n",
       "      <th>count</th>\n",
       "      <td>24.000000</td>\n",
       "      <td>24.000000</td>\n",
       "    </tr>\n",
       "    <tr>\n",
       "      <th>mean</th>\n",
       "      <td>14.051125</td>\n",
       "      <td>22.015917</td>\n",
       "    </tr>\n",
       "    <tr>\n",
       "      <th>std</th>\n",
       "      <td>3.559358</td>\n",
       "      <td>4.797057</td>\n",
       "    </tr>\n",
       "    <tr>\n",
       "      <th>min</th>\n",
       "      <td>8.630000</td>\n",
       "      <td>15.687000</td>\n",
       "    </tr>\n",
       "    <tr>\n",
       "      <th>25%</th>\n",
       "      <td>11.895250</td>\n",
       "      <td>18.716750</td>\n",
       "    </tr>\n",
       "    <tr>\n",
       "      <th>50%</th>\n",
       "      <td>14.356500</td>\n",
       "      <td>21.017500</td>\n",
       "    </tr>\n",
       "    <tr>\n",
       "      <th>75%</th>\n",
       "      <td>16.200750</td>\n",
       "      <td>24.051500</td>\n",
       "    </tr>\n",
       "    <tr>\n",
       "      <th>max</th>\n",
       "      <td>22.328000</td>\n",
       "      <td>35.255000</td>\n",
       "    </tr>\n",
       "  </tbody>\n",
       "</table>\n",
       "</div>"
      ],
      "text/plain": [
       "       Congruent  Incongruent\n",
       "count  24.000000    24.000000\n",
       "mean   14.051125    22.015917\n",
       "std     3.559358     4.797057\n",
       "min     8.630000    15.687000\n",
       "25%    11.895250    18.716750\n",
       "50%    14.356500    21.017500\n",
       "75%    16.200750    24.051500\n",
       "max    22.328000    35.255000"
      ]
     },
     "execution_count": 3,
     "metadata": {},
     "output_type": "execute_result"
    }
   ],
   "source": [
    "# http://bconnelly.net/2013/10/summarizing-data-in-python-with-pandas/\n",
    "# https://chrisalbon.com/python/pandas_dataframe_descriptive_stats.html\n",
    "stroop_data.describe()"
   ]
  },
  {
   "cell_type": "markdown",
   "metadata": {},
   "source": [
    "### Data visualization\n",
    "Visualization will provide greater insight into the descriptive statistics. We make use of the graphics functions bulit into pandas and integrated into the jupyter notebook. We can generate histograms of the datasets showing the fequency distributions for the naming times. We look at the histograms both side by side, and laid on top of one another. This provides us a sense of the shape of the data and their intersection, respectively. The jupyter notebook provides widgets for interacting with the data; here, we use a slider to control the bin size. Some fiddling suggests that a bin size of 16 is most illustrative. We see that both the congruent and incogruent data are normally distributed, with a slight right skew. Both data sets are packed tightly arond the mean, with some outliers to the right increasing the skew."
   ]
  },
  {
   "cell_type": "code",
   "execution_count": 4,
   "metadata": {
    "collapsed": false
   },
   "outputs": [
    {
     "data": {
      "image/png": "[encoded data removed]",
      "text/plain": [
       "<matplotlib.figure.Figure at 0xcc87f28>"
      ]
     },
     "metadata": {},
     "output_type": "display_data"
    }
   ],
   "source": [
    "# http://stackoverflow.com/questions/10511024/in-ipython-notebook-pandas-is-not-displying-the-graph-i-try-to-plot\n",
    "%matplotlib inline\n",
    "\n",
    "# https://blog.dominodatalab.com/interactive-dashboards-in-jupyter/\n",
    "# http://ipywidgets.readthedocs.io/en/latest/examples/Using%20Interact.html#interactive\n",
    "from ipywidgets import interact\n",
    "\n",
    "# http://pandas.pydata.org/pandas-docs/stable/visualization.html#visualization-hist\n",
    "import matplotlib\n",
    "matplotlib.style.use('ggplot')\n",
    "\n",
    "# http://pandas.pydata.org/pandas-docs/stable/generated/pandas.DataFrame.hist.html\n",
    "# http://stackoverflow.com/questions/28654003/how-to-plot-histograms-from-dataframes-in-pandas\n",
    "# http://stackoverflow.com/questions/12125880/changing-default-x-range-in-histogram-matplotlib\n",
    "# http://stackoverflow.com/questions/24571005/return-max-value-from-panda-dataframe-as-a-whole-not-based-on-column-or-rows\n",
    "def side_by_side(bin_size):\n",
    "    stroop_data.hist(bins=bin_size, layout=(1,2), figsize=(12,4), range=(0, stroop_data.values.max()))\n",
    "\n",
    "interact(side_by_side, bin_size=(1,len(stroop_data),1))"
   ]
  },
  {
   "cell_type": "code",
   "execution_count": 5,
   "metadata": {
    "collapsed": false
   },
   "outputs": [
    {
     "data": {
      "image/png": "[encoded data removed]",
      "text/plain": [
       "<matplotlib.figure.Figure at 0xccaaa20>"
      ]
     },
     "metadata": {},
     "output_type": "display_data"
    }
   ],
   "source": [
    "# http://pandas.pydata.org/pandas-docs/stable/visualization.html#visualization-hist\n",
    "\n",
    "def overlay(bin_size):\n",
    "    stroop_data.plot.hist(bins=bin_size, alpha=0.5, figsize=(8,4), range=(0, stroop_data.values.max()))\n",
    "\n",
    "interact(overlay, bin_size=(1,len(stroop_data),1))"
   ]
  },
  {
   "cell_type": "markdown",
   "metadata": {},
   "source": [
    "### Hypothesis testing and conclusion\n",
    "\n",
    "We perform the Student's t-test for the comparison of dependent samples. The scipy.stats library has a built-in function for this. From the initial setup, we recall the t-critical value for our experiment is plus/minus 2.064. The test returns a t-statistic of -8, far beyond the critical value. Accordingly, the test provides a probablity of observing such a value due to chance at less than 1 in 10 million.\n",
    "\n",
    "We perform the t-test manually, just to be sure the function is behaving as expected. This also sets us up with the data necessary to generate a confidence interval.\n",
    "\n",
    "Conclusion: there is sufficient evidence to reject the null hypothesis. It appears that incongruence between printed ink color and text context content affects naming the ink color. We are 95% confident that the incogruent naming time is between approximately 6 and 10 seconds slower than the congruent naming time. This lines up with our naive expectations; it seems logical that incogruence would cause cognitive interference, and slow down the naming process."
   ]
  },
  {
   "cell_type": "code",
   "execution_count": 6,
   "metadata": {
    "collapsed": false
   },
   "outputs": [
    {
     "data": {
      "text/plain": [
       "Ttest_relResult(statistic=-8.020706944109957, pvalue=4.1030005857111781e-08)"
      ]
     },
     "execution_count": 6,
     "metadata": {},
     "output_type": "execute_result"
    }
   ],
   "source": [
    "# http://stackoverflow.com/questions/13404468/t-test-in-pandas-python\n",
    "# http://stackoverflow.com/questions/15984221/how-to-perform-two-sample-one-tailed-t-test-with-numpy-scipy\n",
    "# https://docs.scipy.org/doc/scipy-0.19.0/reference/generated/scipy.stats.ttest_rel.html\n",
    "from scipy import stats\n",
    "\n",
    "stats.ttest_rel(stroop_data['Congruent'], stroop_data['Incongruent'])"
   ]
  },
  {
   "cell_type": "code",
   "execution_count": 8,
   "metadata": {
    "collapsed": false
   },
   "outputs": [
    {
     "name": "stdout",
     "output_type": "stream",
     "text": [
      "       dlt    diff_dev\n",
      "0   -7.199    0.586437\n",
      "1   -1.950   36.177719\n",
      "2  -11.650   13.580760\n",
      "3   -7.057    0.824086\n",
      "4   -8.134    0.028631\n",
      "5   -8.640    0.455906\n",
      "6   -9.880    3.668023\n",
      "7   -8.407    0.195548\n",
      "8  -11.361   11.534231\n",
      "9  -11.802   14.724168\n",
      "10  -2.196   33.278957\n",
      "11  -3.346   21.333236\n",
      "12  -2.437   30.556481\n",
      "13  -3.401   20.828194\n",
      "14 -17.055   82.631888\n",
      "15 -10.028    4.256829\n",
      "16  -6.644    1.744491\n",
      "17  -9.790    3.331385\n",
      "18  -6.081    3.548671\n",
      "19 -21.919  194.719930\n",
      "20 -10.950    8.911469\n",
      "21  -3.727   17.958878\n",
      "22  -2.348   31.548349\n",
      "23  -5.153    7.906172\n",
      "DF mean equals point estimate:  True\n",
      "DF diff std equals calculated std:  True\n",
      "t-statistic:  -8.02070694411\n"
     ]
    }
   ],
   "source": [
    "# Double-check\n",
    "\n",
    "summary_data = pd.DataFrame()\n",
    "summary_data['dlt'] = stroop_data.apply( lambda x: x.Congruent - x.Incongruent, axis=1 )\n",
    "summary_data['diff_dev'] = summary_data['dlt'].apply( lambda x: (x - summary_data['dlt'].mean())**2 )\n",
    "print summary_data\n",
    "\n",
    "mean_diff = stroop_data['Congruent'].mean() - stroop_data['Incongruent'].mean()\n",
    "print \"DF mean equals point estimate: \", round(summary_data['dlt'].mean(), 7) == round(mean_diff, 7)\n",
    "\n",
    "calc_std = (summary_data.diff_dev.sum() / (len(summary_data) - 1) ) ** 0.5\n",
    "print \"DF diff std equals calculated std: \", summary_data['dlt'].std() == calc_std\n",
    "\n",
    "t = summary_data['dlt'].mean() / (summary_data['dlt'].std()  / len(summary_data) ** 0.5 )\n",
    "print \"t-statistic: \", t"
   ]
  },
  {
   "cell_type": "code",
   "execution_count": 9,
   "metadata": {
    "collapsed": false
   },
   "outputs": [
    {
     "name": "stdout",
     "output_type": "stream",
     "text": [
      "confidence interval: ( -10.0144027688 , -5.91518056448 )\n"
     ]
    }
   ],
   "source": [
    "ci = 2.064 * (calc_std / len(summary_data)**0.5 )\n",
    "print \"confidence interval: (\", mean_diff - ci, \",\", mean_diff + ci, \")\""
   ]
  },
  {
   "cell_type": "markdown",
   "metadata": {
    "collapsed": true
   },
   "source": [
    "### Concluding remarks\n",
    "\n",
    "The experiemnt confirmed our expectations: incongruency between a printed word's ink color and text content impeded naming the ink color. The Stroop effect is a demonstration of cognitive interference, which can take many forms. Research shows that, despite the claims of \"multitaskers\", the human mind can only focus on one subject at a time. Conflicting stimuli, as in the case of the Stroop task, can affect the speed and accuracy of memory and recall. A practical examination of this phenomena would be to see the speed with which students complete assignments in the presence of distractions like music or televeision. Another experiment with more serious consequences would be to study reaction time for distracted drivers."
   ]
  }
 ],
 "metadata": {
  "kernelspec": {
   "display_name": "Python 2",
   "language": "python",
   "name": "python2"
  },
  "language_info": {
   "codemirror_mode": {
    "name": "ipython",
    "version": 2
   },
   "file_extension": ".py",
   "mimetype": "text/x-python",
   "name": "python",
   "nbconvert_exporter": "python",
   "pygments_lexer": "ipython2",
   "version": "2.7.13"
  },
  "widgets": {
   "state": {
    "320133c24c584ac7b7e52aaef0d39c8a": {
     "views": [
      {
       "cell_index": 5
      }
     ]
    },
    "90ce0c30afb44d64a0a1b16a21b1373f": {
     "views": [
      {
       "cell_index": 6
      }
     ]
    }
   },
   "version": "1.2.0"
  }
 },
 "nbformat": 4,
 "nbformat_minor": 2
}
