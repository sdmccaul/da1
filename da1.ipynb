{
 "cells": [
  {
   "cell_type": "markdown",
   "metadata": {},
   "source": [
    "# Project 1: Test a Perceptual Phenomenon\n",
    "### Preamble and experimental design\n",
    "\n",
    "In this variation of the Stroop Task, we want to know if an incongruency between the printed ink color of a word and its text content will increase the time needed to name the ink color. The independent variable is the congruent or incongruent condition of the words; that is, whether or not the printed color of the word matches its text. The dependent variable is the time it takes to name the ink colors. The question to answer is: does the incongruent condition affect the time needed to name the ink color?\n",
    "\n",
    "The setup of the experiment provides us with dependent, paired samples; one for each condition. The sample size is less than 30, and population parameters like standard deviation are unknown. With more information about the population, we would be able to use a z-test. Instead, a standard Student's t-test for the comparison of dependent samples is our best option to determine the condition's effect. We assume that the data is continuous and normally distributed; and that our sample subjects are random, and the same for both conditions.\n",
    "\n",
    "Our hypotheses and experimental setup is as follows, where $ \\mu_c $ is the population's mean congruent time for naming, and $ \\mu_i $ the population's mean incongruent time. The null hypothesis is that mean congruent time for the population is equal to the population's mean incogruent time; the alternative hypothesis is that they are not equal. There are 24 samples available, giving us 23 degrees of freedom, and we select an alpha-level of 0.05. A two-tailed test with 23 degrees of freedom and an alpha-level of 0.05 has a t-critical value of plus/minus 2.069.\n",
    "\n",
    "$ H_0: \\mu_c=\\mu_i $\n",
    "\n",
    "$ H_A: \\mu_c \\ne \\mu_i $\n",
    "\n",
    "$ \\alpha=0.05, n=24 $\n",
    "\n",
    "$ t_{critical} = \\pm2.069 $"
   ]
  },
  {
   "cell_type": "markdown",
   "metadata": {},
   "source": [
    "### Initial setup and exploration\n",
    "First, we import the pandas library and load the sample data. We take a look at the data to make sure it imported correctly, then use a pandas built-in function to generate some descriptive statistics. We see that there appears to be a significant difference between the mean naming time for the congruent and incongruent conditions. While the center of the data sets are different, their standard deviation and interquartile ranges are comparable. This implies that the data has undergone a distinct and identifiable change, shifting the center while not affecting variability."
   ]
  },
  {
   "cell_type": "code",
   "execution_count": null,
   "metadata": {
    "collapsed": false
   },
   "outputs": [],
   "source": [
    "import pandas as pd\n",
    "\n",
    "# https://chrisalbon.com/python/pandas_dataframe_importing_csv.html\n",
    "stroop_data = pd.read_csv('stroopdata.csv')\n",
    "stroop_data"
   ]
  },
  {
   "cell_type": "code",
   "execution_count": null,
   "metadata": {
    "collapsed": false
   },
   "outputs": [],
   "source": [
    "# http://bconnelly.net/2013/10/summarizing-data-in-python-with-pandas/\n",
    "# https://chrisalbon.com/python/pandas_dataframe_descriptive_stats.html\n",
    "stroop_data.describe()"
   ]
  },
  {
   "cell_type": "markdown",
   "metadata": {},
   "source": [
    "### Data visualization\n",
    "Visualization will provide greater insight into the descriptive statistics. We make use of the graphics functions bulit into pandas and integrated into the jupyter notebook. We can generate histograms of the datasets showing the fequency distributions for the naming times. We look at the histograms both side by side, and laid on top of one another. This provides us a sense of the shape of the data and their intersection, respectively. The jupyter notebook provides widgets for interacting with the data; here, we use a slider to control the bin size. Some fiddling suggests that a bin size of 16 is most illustrative. We see that both the congruent and incogruent data are normally distributed, with a slight right skew. Both data sets are packed tightly arond the mean, with some outliers to the right increasing the skew."
   ]
  },
  {
   "cell_type": "code",
   "execution_count": null,
   "metadata": {
    "collapsed": false
   },
   "outputs": [],
   "source": [
    "# http://stackoverflow.com/questions/10511024/in-ipython-notebook-pandas-is-not-displying-the-graph-i-try-to-plot\n",
    "%matplotlib inline\n",
    "\n",
    "# https://blog.dominodatalab.com/interactive-dashboards-in-jupyter/\n",
    "# http://ipywidgets.readthedocs.io/en/latest/examples/Using%20Interact.html#interactive\n",
    "from ipywidgets import interact\n",
    "\n",
    "# http://pandas.pydata.org/pandas-docs/stable/visualization.html#visualization-hist\n",
    "import matplotlib\n",
    "matplotlib.style.use('ggplot')\n",
    "\n",
    "# http://pandas.pydata.org/pandas-docs/stable/generated/pandas.DataFrame.hist.html\n",
    "# http://stackoverflow.com/questions/28654003/how-to-plot-histograms-from-dataframes-in-pandas\n",
    "# http://stackoverflow.com/questions/12125880/changing-default-x-range-in-histogram-matplotlib\n",
    "# http://stackoverflow.com/questions/24571005/return-max-value-from-panda-dataframe-as-a-whole-not-based-on-column-or-rows\n",
    "def side_by_side(bin_size):\n",
    "    stroop_data.hist(bins=bin_size, layout=(1,2), figsize=(12,4), range=(0, stroop_data.values.max()))\n",
    "\n",
    "interact(side_by_side, bin_size=(1,len(stroop_data),1))"
   ]
  },
  {
   "cell_type": "code",
   "execution_count": null,
   "metadata": {
    "collapsed": false
   },
   "outputs": [],
   "source": [
    "# http://pandas.pydata.org/pandas-docs/stable/visualization.html#visualization-hist\n",
    "\n",
    "def overlay(bin_size):\n",
    "    stroop_data.plot.hist(bins=bin_size, alpha=0.5, figsize=(8,4), range=(0, stroop_data.values.max()))\n",
    "\n",
    "interact(overlay, bin_size=(1,len(stroop_data),1))"
   ]
  },
  {
   "cell_type": "markdown",
   "metadata": {},
   "source": [
    "### Hypothesis testing and conclusion\n",
    "\n",
    "We perform the Student's t-test for the comparison of dependent samples. The scipy.stats library has a built-in function for this. From the initial setup, we recall the t-critical value for 23 degrees of freedom is plus/minus 2.069. The test returns a t-statistic of -8, far beyond the critical value. Accordingly, the test provides a probablity of observing such a value due to chance at less than 1 in 10 million.\n",
    "\n",
    "We perform the t-test manually, just to be sure the function is behaving as expected. This also sets us up with the data necessary to generate a confidence interval.\n",
    "\n",
    "Conclusion: there is sufficient evidence to reject the null hypothesis. It appears that incongruence between printed ink color and text context content affects naming the ink color. We are 95% confident that the incogruent naming time is between approximately 6 and 10 seconds slower than the congruent naming time. This lines up with our naive expectations; it seems logical that incogruence would cause cognitive interference, and slow down the naming process."
   ]
  },
  {
   "cell_type": "code",
   "execution_count": null,
   "metadata": {
    "collapsed": false
   },
   "outputs": [],
   "source": [
    "# http://stackoverflow.com/questions/13404468/t-test-in-pandas-python\n",
    "# http://stackoverflow.com/questions/15984221/how-to-perform-two-sample-one-tailed-t-test-with-numpy-scipy\n",
    "# https://docs.scipy.org/doc/scipy-0.19.0/reference/generated/scipy.stats.ttest_rel.html\n",
    "from scipy import stats\n",
    "\n",
    "stats.ttest_rel(stroop_data['Congruent'], stroop_data['Incongruent'])"
   ]
  },
  {
   "cell_type": "code",
   "execution_count": null,
   "metadata": {
    "collapsed": false
   },
   "outputs": [],
   "source": [
    "# Double-check\n",
    "\n",
    "summary_data = pd.DataFrame()\n",
    "summary_data['dlt'] = stroop_data.apply( lambda x: x.Congruent - x.Incongruent, axis=1 )\n",
    "summary_data['diff_dev'] = summary_data['dlt'].apply( lambda x: (x - summary_data['dlt'].mean())**2 )\n",
    "print summary_data\n",
    "\n",
    "mean_diff = stroop_data['Congruent'].mean() - stroop_data['Incongruent'].mean()\n",
    "print \"DF mean equals point estimate: \", round(summary_data['dlt'].mean(), 7) == round(mean_diff, 7)\n",
    "\n",
    "calc_std = (summary_data.diff_dev.sum() / (len(summary_data) - 1) ) ** 0.5\n",
    "print \"DF diff std equals calculated std: \", summary_data['dlt'].std() == calc_std\n",
    "\n",
    "t = summary_data['dlt'].mean() / (summary_data['dlt'].std()  / len(summary_data) ** 0.5 )\n",
    "print \"t-statistic: \", t"
   ]
  },
  {
   "cell_type": "code",
   "execution_count": null,
   "metadata": {
    "collapsed": false
   },
   "outputs": [],
   "source": [
    "ci = 2.069 * (calc_std / len(summary_data)**0.5 )\n",
    "print \"confidence interval: (\", mean_diff - ci, \",\", mean_diff + ci, \")\""
   ]
  },
  {
   "cell_type": "markdown",
   "metadata": {
    "collapsed": true
   },
   "source": [
    "### Concluding remarks\n",
    "\n",
    "The experiment confirmed our expectations: incongruency between a printed word's ink color and text content impeded naming the ink color. We could repeat the experiment using a one-tailed test to provide stronger evidence that incogruency indeed slows down naming, but as an opening inquiry it seems enough to confirm that incongruency produces an effect.\n",
    "\n",
    "The Stroop effect is a demonstration of cognitive interference, which can take many forms. Despite the claims of \"multitaskers\", the human mind can only focus on one subject at a time. Conflicting stimuli, as in the case of the Stroop task, can affect the speed and accuracy of memory and recall. A practical examination of this phenomena would be to see the speed with which students complete assignments in the presence of distractions like music or television. Another experiment with more serious consequences would be to study reaction time for distracted drivers."
   ]
  }
 ],
 "metadata": {
  "kernelspec": {
   "display_name": "Python 2",
   "language": "python",
   "name": "python2"
  },
  "language_info": {
   "codemirror_mode": {
    "name": "ipython",
    "version": 2
   },
   "file_extension": ".py",
   "mimetype": "text/x-python",
   "name": "python",
   "nbconvert_exporter": "python",
   "pygments_lexer": "ipython2",
   "version": "2.7.13"
  },
  "widgets": {
   "state": {
    "0c72c20335cb43c9997cffbe99b67049": {
     "views": [
      {
       "cell_index": 6
      }
     ]
    },
    "899ac1feda4b44a6ac658d748c1c8d6d": {
     "views": [
      {
       "cell_index": 5
      }
     ]
    }
   },
   "version": "1.2.0"
  }
 },
 "nbformat": 4,
 "nbformat_minor": 2
}
