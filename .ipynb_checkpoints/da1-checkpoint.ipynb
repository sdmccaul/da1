{
 "cells": [
  {
   "cell_type": "code",
   "execution_count": null,
   "metadata": {
    "collapsed": false
   },
   "outputs": [],
   "source": [
    "import pandas as pd\n",
    "import numpy as np\n",
    "\n",
    "# https://chrisalbon.com/python/pandas_dataframe_importing_csv.html\n",
    "stroop_data = pd.read_csv('stroopdata.csv')\n",
    "stroop_data"
   ]
  },
  {
   "cell_type": "code",
   "execution_count": null,
   "metadata": {
    "collapsed": false
   },
   "outputs": [],
   "source": [
    "# http://bconnelly.net/2013/10/summarizing-data-in-python-with-pandas/\n",
    "# https://chrisalbon.com/python/pandas_dataframe_descriptive_stats.html\n",
    "stroop_data.describe()"
   ]
  },
  {
   "cell_type": "code",
   "execution_count": null,
   "metadata": {
    "collapsed": false
   },
   "outputs": [],
   "source": [
    "# http://stackoverflow.com/questions/10511024/in-ipython-notebook-pandas-is-not-displying-the-graph-i-try-to-plot\n",
    "%matplotlib inline\n",
    "\n",
    "# https://blog.dominodatalab.com/interactive-dashboards-in-jupyter/\n",
    "# http://ipywidgets.readthedocs.io/en/latest/examples/Using%20Interact.html#interactive\n",
    "from ipywidgets import interact\n",
    "\n",
    "# http://pandas.pydata.org/pandas-docs/stable/visualization.html#visualization-hist\n",
    "import matplotlib\n",
    "matplotlib.style.use('ggplot')\n",
    "\n",
    "# http://pandas.pydata.org/pandas-docs/stable/generated/pandas.DataFrame.hist.html\n",
    "# http://stackoverflow.com/questions/28654003/how-to-plot-histograms-from-dataframes-in-pandas\n",
    "# http://stackoverflow.com/questions/12125880/changing-default-x-range-in-histogram-matplotlib\n",
    "# http://stackoverflow.com/questions/24571005/return-max-value-from-panda-dataframe-as-a-whole-not-based-on-column-or-rows\n",
    "def side_by_side(bin_size):\n",
    "    stroop_data.hist(bins=bin_size, layout=(1,2), figsize=(12,4), range=(0, stroop_data.values.max()))\n",
    "\n",
    "interact(side_by_side, bin_size=(1,len(stroop_data),1))"
   ]
  },
  {
   "cell_type": "code",
   "execution_count": null,
   "metadata": {
    "collapsed": false
   },
   "outputs": [],
   "source": [
    "# http://pandas.pydata.org/pandas-docs/stable/visualization.html#visualization-hist\n",
    "\n",
    "def overlay(bin_size):\n",
    "    stroop_data.plot.hist(bins=bin_size, alpha=0.5, figsize=(8,4), range=(0, stroop_data.values.max()))\n",
    "\n",
    "interact(overlay, bin_size=(1,len(stroop_data),1))"
   ]
  },
  {
   "cell_type": "code",
   "execution_count": null,
   "metadata": {
    "collapsed": false
   },
   "outputs": [],
   "source": [
    "# http://stackoverflow.com/questions/13404468/t-test-in-pandas-python\n",
    "# https://docs.scipy.org/doc/scipy/reference/generated/scipy.stats.ttest_ind.html#scipy.stats.ttest_ind\n",
    "from scipy.stats import ttest_ind\n",
    "\n",
    "ttest_ind(stroop_data['Congruent'], stroop_data['Incongruent'])"
   ]
  },
  {
   "cell_type": "code",
   "execution_count": null,
   "metadata": {
    "collapsed": false
   },
   "outputs": [],
   "source": [
    "# Double-check\n",
    "\n",
    "mean_cng = stroop_data['Congruent'].mean()\n",
    "print mean_cng\n",
    "mean_inc = stroop_data['Incongruent'].mean()\n",
    "print mean_inc\n",
    "mean_diff = mean_inc - mean_cng\n",
    "print \"mean diff: \", mean_diff, \"\\n\"\n",
    "\n",
    "std_cng = stroop_data['Congruent'].std()\n",
    "print std_cng\n",
    "std_inc = stroop_data['Incongruent'].std()\n",
    "print std_inc\n",
    "std_diff = (std_cng ** 2 + std_inc ** 2) ** 0.5\n",
    "print \"std diff: \", std_diff, \"\\n\"\n",
    "\n",
    "t = mean_diff / ( std_diff / len(stroop_data) ** 0.5 )\n",
    "print \"t-statistic: \", t"
   ]
  },
  {
   "cell_type": "code",
   "execution_count": null,
   "metadata": {
    "collapsed": true
   },
   "outputs": [],
   "source": []
  }
 ],
 "metadata": {
  "kernelspec": {
   "display_name": "Python 2",
   "language": "python",
   "name": "python2"
  },
  "language_info": {
   "codemirror_mode": {
    "name": "ipython",
    "version": 2
   },
   "file_extension": ".py",
   "mimetype": "text/x-python",
   "name": "python",
   "nbconvert_exporter": "python",
   "pygments_lexer": "ipython2",
   "version": "2.7.13"
  },
  "widgets": {
   "state": {
    "ad1fd18b4f8c4ab89eb7bec8645c4ca3": {
     "views": [
      {
       "cell_index": 3
      }
     ]
    },
    "d3b31af531b140b4a08d0cce705ecf1c": {
     "views": [
      {
       "cell_index": 2
      }
     ]
    }
   },
   "version": "1.2.0"
  }
 },
 "nbformat": 4,
 "nbformat_minor": 2
}
