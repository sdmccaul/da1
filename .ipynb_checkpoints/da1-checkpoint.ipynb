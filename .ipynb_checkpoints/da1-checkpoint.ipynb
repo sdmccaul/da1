{
 "cells": [
  {
   "cell_type": "markdown",
   "metadata": {},
   "source": [
    "# Project 1: Test a Perceptual Phenomenon\n",
    "### Preamble and experimental design\n",
    "\n",
    "In this variation of the Stroop Task, we want to know if an incongruency between the printed ink color of a word and its text content will increase the time needed to name the ink color. The independent variable is the congruent or incongruent condition of the words; that is, whether or not the printed color of the word matches its text. The dependent variable is the time it takes to name the ink colors. The question to answer is: does the incongruent condition affect the time needed to name the ink color? The setup of the experiment provides us with dependent, paired samples; one for each condition. As such, a standard Student's t-test for the comparison of dependent samples should be sufficient to determine the condition's effect. Our hypotheses and experimental setup is as follows, where $ \\mu_c $ is the mean congruent time for naming, and $ \\mu_i $ the mean incongruent time. We select an alhpa-level of 0.05, which for a two-tailed test with 24 samples gives us a t-critical value of plus/minus 2.064.\n",
    "\n",
    "$ H_0: \\mu_c=\\mu_i $\n",
    "\n",
    "$ H_A: \\mu_c \\ne \\mu_i $\n",
    "\n",
    "$ \\alpha=0.05, n=24 $\n",
    "\n",
    "$ t_{critical} = \\pm2.064 $"
   ]
  },
  {
   "cell_type": "markdown",
   "metadata": {},
   "source": [
    "### Initial setup and exploration\n",
    "First, we import the pandas library and load the sample data. We then take a look at the data to make sure it imported correctly, then use a pandas built-in function to generate some descriptive statistics. We see that there appears to be a significant difference between the mean naming time for the congruent and incongruent conditions. While the center of the data sets are different, their standard deviation and interquartile ranges are comparable. This implies that the data has undergone a distinct and identifiable change, shifting the center while not affecting variability."
   ]
  },
  {
   "cell_type": "code",
   "execution_count": null,
   "metadata": {
    "collapsed": false
   },
   "outputs": [],
   "source": [
    "import pandas as pd\n",
    "\n",
    "# https://chrisalbon.com/python/pandas_dataframe_importing_csv.html\n",
    "stroop_data = pd.read_csv('stroopdata.csv')\n",
    "stroop_data"
   ]
  },
  {
   "cell_type": "code",
   "execution_count": null,
   "metadata": {
    "collapsed": false
   },
   "outputs": [],
   "source": [
    "# http://bconnelly.net/2013/10/summarizing-data-in-python-with-pandas/\n",
    "# https://chrisalbon.com/python/pandas_dataframe_descriptive_stats.html\n",
    "stroop_data.describe()"
   ]
  },
  {
   "cell_type": "markdown",
   "metadata": {},
   "source": [
    "### Data visualization\n",
    "Visualization will provide greater insight into the descriptive statistics. We make use of the graphics functions bulit into pandas and integrated into the jupyter notebook. We can generate histograms of the datasets showing the fequency distributions for the naming times. We look at the histograms both side by side, and laid on top of one another. This provides us a sense of the shape of the data and their intersection, respectively. The jupyter notebook provides widgets for interacting with the data; here, we use a slider to control the bin size. Some fiddling suggests that a bin size of 16 is most illustrative. We see that both the congruent and incogruent data are normally distributed, with a slight right skew. Both data sets are packed tightly arond the mean, with some outliers to the right increasing the skew."
   ]
  },
  {
   "cell_type": "code",
   "execution_count": null,
   "metadata": {
    "collapsed": false
   },
   "outputs": [],
   "source": [
    "# http://stackoverflow.com/questions/10511024/in-ipython-notebook-pandas-is-not-displying-the-graph-i-try-to-plot\n",
    "%matplotlib inline\n",
    "\n",
    "# https://blog.dominodatalab.com/interactive-dashboards-in-jupyter/\n",
    "# http://ipywidgets.readthedocs.io/en/latest/examples/Using%20Interact.html#interactive\n",
    "from ipywidgets import interact\n",
    "\n",
    "# http://pandas.pydata.org/pandas-docs/stable/visualization.html#visualization-hist\n",
    "import matplotlib\n",
    "matplotlib.style.use('ggplot')\n",
    "\n",
    "# http://pandas.pydata.org/pandas-docs/stable/generated/pandas.DataFrame.hist.html\n",
    "# http://stackoverflow.com/questions/28654003/how-to-plot-histograms-from-dataframes-in-pandas\n",
    "# http://stackoverflow.com/questions/12125880/changing-default-x-range-in-histogram-matplotlib\n",
    "# http://stackoverflow.com/questions/24571005/return-max-value-from-panda-dataframe-as-a-whole-not-based-on-column-or-rows\n",
    "def side_by_side(bin_size):\n",
    "    stroop_data.hist(bins=bin_size, layout=(1,2), figsize=(12,4), range=(0, stroop_data.values.max()))\n",
    "\n",
    "interact(side_by_side, bin_size=(1,len(stroop_data),1))"
   ]
  },
  {
   "cell_type": "code",
   "execution_count": null,
   "metadata": {
    "collapsed": false
   },
   "outputs": [],
   "source": [
    "# http://pandas.pydata.org/pandas-docs/stable/visualization.html#visualization-hist\n",
    "\n",
    "def overlay(bin_size):\n",
    "    stroop_data.plot.hist(bins=bin_size, alpha=0.5, figsize=(8,4), range=(0, stroop_data.values.max()))\n",
    "\n",
    "interact(overlay, bin_size=(1,len(stroop_data),1))"
   ]
  },
  {
   "cell_type": "markdown",
   "metadata": {},
   "source": [
    "### Hypothesis testing and conclusion\n",
    "\n",
    "We perform the Student's t-test for the comparison of dependent samples. The scipy.stats library has a built-in function for this. From the initial setup, we recall the t-critical value for our experiment is plus/minus 2.064. The test returns a t-statistic of -8, far beyond the critical value. Accordingly, the test provides a probablity of observing such a value due to chance at less than 1 in 10 million.\n",
    "\n",
    "We perform the t-test manually, just to be sure the function is behaving as expected. This also sets us up with the data necessary to generate a confidence interval.\n",
    "\n",
    "Conclusion: there is sufficient evidence to reject the null hypothesis. It appears that incongruence between printed ink color and text context content affects naming the ink color. We are 95% confident that the incogruent naming time is between approximately 6 and 10 seconds slower than the congruent naming time. This lines up with our naive expectations; it seems logical that incogruence would cause cognitive interference, and slow down the naming process."
   ]
  },
  {
   "cell_type": "code",
   "execution_count": null,
   "metadata": {
    "collapsed": false
   },
   "outputs": [],
   "source": [
    "# http://stackoverflow.com/questions/13404468/t-test-in-pandas-python\n",
    "# http://stackoverflow.com/questions/15984221/how-to-perform-two-sample-one-tailed-t-test-with-numpy-scipy\n",
    "# https://docs.scipy.org/doc/scipy-0.19.0/reference/generated/scipy.stats.ttest_rel.html\n",
    "from scipy import stats\n",
    "\n",
    "stats.ttest_rel(stroop_data['Congruent'], stroop_data['Incongruent'])"
   ]
  },
  {
   "cell_type": "code",
   "execution_count": null,
   "metadata": {
    "collapsed": false
   },
   "outputs": [],
   "source": [
    "# Double-check\n",
    "\n",
    "stroop_data['dlt'] = stroop_data.apply( lambda x: x.Congruent - x.Incongruent, axis=1 )\n",
    "stroop_data['diff_dev'] = stroop_data['dlt'].apply( lambda x: (x - stroop_data['dlt'].mean())**2 )\n",
    "print stroop_data\n",
    "\n",
    "mean_diff = stroop_data['Congruent'].mean() - stroop_data['Incongruent'].mean()\n",
    "print \"DF mean equals point estimate: \", round(stroop_data['dlt'].mean(), 7) == round(mean_diff, 7)\n",
    "\n",
    "calc_std = (stroop_data.diff_dev.sum() / (len(stroop_data) - 1) ) ** 0.5\n",
    "print \"DF diff std equals calculated std: \", stroop_data['dlt'].std() == calc_std\n",
    "\n",
    "t = stroop_data['dlt'].mean() / (stroop_data['dlt'].std()  / len(stroop_data) ** 0.5 )\n",
    "print \"t-statistic: \", t"
   ]
  },
  {
   "cell_type": "code",
   "execution_count": null,
   "metadata": {
    "collapsed": false
   },
   "outputs": [],
   "source": [
    "ci = 2.064 * (calc_std / len(stroop_data)**0.5 )\n",
    "print \"confidence interval: (\", mean_diff - ci, \",\", mean_diff + ci, \")\""
   ]
  },
  {
   "cell_type": "code",
   "execution_count": null,
   "metadata": {
    "collapsed": true
   },
   "outputs": [],
   "source": []
  }
 ],
 "metadata": {
  "kernelspec": {
   "display_name": "Python 2",
   "language": "python",
   "name": "python2"
  },
  "language_info": {
   "codemirror_mode": {
    "name": "ipython",
    "version": 2
   },
   "file_extension": ".py",
   "mimetype": "text/x-python",
   "name": "python",
   "nbconvert_exporter": "python",
   "pygments_lexer": "ipython2",
   "version": "2.7.13"
  },
  "widgets": {
   "state": {
    "8d7f239210374a09be6df7431ffb5340": {
     "views": [
      {
       "cell_index": 5
      }
     ]
    },
    "a5676892c782409fa8996cf783cdc45d": {
     "views": [
      {
       "cell_index": 6
      }
     ]
    }
   },
   "version": "1.2.0"
  }
 },
 "nbformat": 4,
 "nbformat_minor": 2
}
