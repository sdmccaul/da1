{
 "cells": [
  {
   "cell_type": "markdown",
   "metadata": {},
   "source": [
    "Preamble and Experimental Design\n",
    "======\n",
    "\n",
    "In this variation of the Stroop Task, the independent variable is the congruent or incongruent condition of the words; that is, whether or not the printed color of the word matches its text. The dependent variable is the time it takes to name the ink colors. The obvious question to ask is: does the incongruent condition affect the time needed to name the ink color? The setup of the experiment provides us with dependent, paired samples; one for each condition. As such, a standard Student's t-test for the comparison of dependent samples should be sufficient to determine the condition's effect. Our hypotheses and experimental setup is as follows, where $ \\mu_c $ is the mean congruent time for naming, and $ \\mu_i $ the mean incongruent time:\n",
    "\n",
    "$ H_0: \\mu_c=\\mu_i $\n",
    "\n",
    "$ H_A: \\mu_c \\ne \\mu_i $\n",
    "\n",
    "$ \\alpha=0.05, n=24 $"
   ]
  },
  {
   "cell_type": "code",
   "execution_count": null,
   "metadata": {
    "collapsed": false
   },
   "outputs": [],
   "source": [
    "import pandas as pd\n",
    "import numpy as np\n",
    "\n",
    "# https://chrisalbon.com/python/pandas_dataframe_importing_csv.html\n",
    "stroop_data = pd.read_csv('stroopdata.csv')\n",
    "stroop_data"
   ]
  },
  {
   "cell_type": "code",
   "execution_count": null,
   "metadata": {
    "collapsed": false
   },
   "outputs": [],
   "source": [
    "# http://bconnelly.net/2013/10/summarizing-data-in-python-with-pandas/\n",
    "# https://chrisalbon.com/python/pandas_dataframe_descriptive_stats.html\n",
    "stroop_data.describe()"
   ]
  },
  {
   "cell_type": "code",
   "execution_count": null,
   "metadata": {
    "collapsed": false
   },
   "outputs": [],
   "source": [
    "# http://stackoverflow.com/questions/10511024/in-ipython-notebook-pandas-is-not-displying-the-graph-i-try-to-plot\n",
    "%matplotlib inline\n",
    "\n",
    "# https://blog.dominodatalab.com/interactive-dashboards-in-jupyter/\n",
    "# http://ipywidgets.readthedocs.io/en/latest/examples/Using%20Interact.html#interactive\n",
    "from ipywidgets import interact\n",
    "\n",
    "# http://pandas.pydata.org/pandas-docs/stable/visualization.html#visualization-hist\n",
    "import matplotlib\n",
    "matplotlib.style.use('ggplot')\n",
    "\n",
    "# http://pandas.pydata.org/pandas-docs/stable/generated/pandas.DataFrame.hist.html\n",
    "# http://stackoverflow.com/questions/28654003/how-to-plot-histograms-from-dataframes-in-pandas\n",
    "# http://stackoverflow.com/questions/12125880/changing-default-x-range-in-histogram-matplotlib\n",
    "# http://stackoverflow.com/questions/24571005/return-max-value-from-panda-dataframe-as-a-whole-not-based-on-column-or-rows\n",
    "def side_by_side(bin_size):\n",
    "    stroop_data.hist(bins=bin_size, layout=(1,2), figsize=(12,4), range=(0, stroop_data.values.max()))\n",
    "\n",
    "interact(side_by_side, bin_size=(1,len(stroop_data),1))"
   ]
  },
  {
   "cell_type": "code",
   "execution_count": null,
   "metadata": {
    "collapsed": false
   },
   "outputs": [],
   "source": [
    "# http://pandas.pydata.org/pandas-docs/stable/visualization.html#visualization-hist\n",
    "\n",
    "def overlay(bin_size):\n",
    "    stroop_data.plot.hist(bins=bin_size, alpha=0.5, figsize=(8,4), range=(0, stroop_data.values.max()))\n",
    "\n",
    "interact(overlay, bin_size=(1,len(stroop_data),1))"
   ]
  },
  {
   "cell_type": "code",
   "execution_count": null,
   "metadata": {
    "collapsed": false
   },
   "outputs": [],
   "source": [
    "# http://stackoverflow.com/questions/13404468/t-test-in-pandas-python\n",
    "# http://stackoverflow.com/questions/15984221/how-to-perform-two-sample-one-tailed-t-test-with-numpy-scipy\n",
    "# https://docs.scipy.org/doc/scipy-0.19.0/reference/generated/scipy.stats.ttest_rel.html\n",
    "from scipy.stats import ttest_rel\n",
    "\n",
    "ttest_rel(stroop_data['Congruent'], stroop_data['Incongruent'])"
   ]
  },
  {
   "cell_type": "code",
   "execution_count": null,
   "metadata": {
    "collapsed": false
   },
   "outputs": [],
   "source": [
    "# Double-check\n",
    "\n",
    "stroop_data['dlt'] = stroop_data.apply( lambda x: x.Congruent - x.Incongruent, axis=1 )\n",
    "stroop_data['diff_dev'] = stroop_data['dlt'].apply( lambda x: (x - stroop_data['dlt'].mean())**2 )\n",
    "print stroop_data\n",
    "\n",
    "mean_diff = stroop_data['Congruent'].mean() - stroop_data['Incongruent'].mean()\n",
    "print \"DF mean equals point estimate: \", round(stroop_data['dlt'].mean(), 7) == round(mean_diff, 7)\n",
    "\n",
    "calc_std = (stroop_data.diff_dev.sum() / (len(stroop_data) - 1) ) ** 0.5\n",
    "print \"DF diff std equals calculated std: \", stroop_data['dlt'].std() == calc_std\n",
    "\n",
    "t = stroop_data['dlt'].mean() / (stroop_data['dlt'].std()  / len(stroop_data) ** 0.5 )\n",
    "print \"t-statistic: \", t"
   ]
  },
  {
   "cell_type": "code",
   "execution_count": null,
   "metadata": {
    "collapsed": true
   },
   "outputs": [],
   "source": []
  },
  {
   "cell_type": "code",
   "execution_count": null,
   "metadata": {
    "collapsed": true
   },
   "outputs": [],
   "source": []
  }
 ],
 "metadata": {
  "kernelspec": {
   "display_name": "Python 2",
   "language": "python",
   "name": "python2"
  },
  "language_info": {
   "codemirror_mode": {
    "name": "ipython",
    "version": 2
   },
   "file_extension": ".py",
   "mimetype": "text/x-python",
   "name": "python",
   "nbconvert_exporter": "python",
   "pygments_lexer": "ipython2",
   "version": "2.7.13"
  },
  "widgets": {
   "state": {
    "1382295d04264700ad84a2e6569b1901": {
     "views": [
      {
       "cell_index": 4
      }
     ]
    },
    "4b01bff41b6946c0bd34e9067fe8066e": {
     "views": [
      {
       "cell_index": 3
      }
     ]
    }
   },
   "version": "1.2.0"
  }
 },
 "nbformat": 4,
 "nbformat_minor": 2
}
